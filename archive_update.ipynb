{
 "cells": [
  {
   "cell_type": "code",
   "execution_count": null,
   "id": "dda00e65",
   "metadata": {},
   "outputs": [],
   "source": [
    "import json\n",
    "import time\n",
    "import datetime\n",
    "import shutil\n",
    "\n",
    "try:\n",
    "    from mal import *\n",
    "    config.TIMEOUT = 20  # Import level config\n",
    "except:\n",
    "    print(\"MAL-Api nicht gefunden. Installieren mit 'pip install -U mal-api'\")"
   ]
  },
  {
   "cell_type": "code",
   "execution_count": null,
   "id": "10fcf906",
   "metadata": {},
   "outputs": [],
   "source": [
    "def getAnime(malid):\n",
    "    maldata = None\n",
    "    timeout = 1\n",
    "    while maldata is None:\n",
    "        try:\n",
    "            maldata = Anime(malid, timeout=10)\n",
    "        except Exception as e:\n",
    "            print(f\"Fehler: {e}  Versuche nochmal in {int(timeout)} sec..\")\n",
    "            time.sleep(timeout)\n",
    "            timeout=timeout*1.5\n",
    "    return maldata"
   ]
  },
  {
   "cell_type": "code",
   "execution_count": null,
   "id": "bda40704",
   "metadata": {},
   "outputs": [],
   "source": [
    "def list_load():\n",
    "    try:\n",
    "        with open('archive.json', encoding=\"utf-8\") as f:\n",
    "            data = json.loads(f.read())\n",
    "        return data\n",
    "    except:\n",
    "        with open('archive.json', encoding=\"utf-8\") as f:\n",
    "            data = json.loads(f.read()[f.read().index(\"[\"):])\n",
    "        return data"
   ]
  },
  {
   "cell_type": "code",
   "execution_count": null,
   "id": "8b08a3a1",
   "metadata": {},
   "outputs": [],
   "source": [
    "def list_cleanup(data, mal=False):\n",
    "    clean = []\n",
    "    clean_w = [] #watchlist at the end or beginning\n",
    "    for i in range(len(data)):\n",
    "        old = data[i]\n",
    "        try:\n",
    "            if mal: \n",
    "                a=1/0 #go to except\n",
    "            if min([len(s) for s in list(old.values())])==0:\n",
    "                a=1/0\n",
    "            tmp = {\"index\":old[\"index\"], \n",
    "                   \"malid\":old[\"malid\"],\n",
    "                   \"title\":old[\"title\"],\n",
    "                   \"titen\":old[\"titen\"],\n",
    "                   \"titjp\":old[\"titjp\"],\n",
    "                   \"theme\":old[\"theme\"],\n",
    "                   \"imurl\":old[\"imurl\"],\n",
    "                   \"semes\":old[\"semes\"],\n",
    "                   \"progr\":old[\"progr\"],\n",
    "                   \"vdate\":old[\"vdate\"],\n",
    "                   \"statu\":old[\"statu\"]\n",
    "                   }\n",
    "        except Exception as es:\n",
    "            if not mal: \n",
    "                print(f\"Ungültiger Eintrag (id:{old['malid']}) entdeckt, lade neu von MAL.. ({es})\")\n",
    "            else:\n",
    "                print(\"Lade von MAL..\")\n",
    "            \n",
    "            maldata = getAnime(old[\"malid\"])\n",
    "                    \n",
    "            tmp = {\"index\":old[\"index\"], \n",
    "                   \"malid\":old[\"malid\"],\n",
    "                   \"title\":maldata.title,\n",
    "                   \"titen\":maldata.title_english,\n",
    "                   \"titjp\":maldata.title_japanese,\n",
    "                   \"theme\":\", \".join(maldata.themes),\n",
    "                   \"imurl\":maldata.image_url.replace(\".jpg\",\"l.jpg\").replace(\"ll.jpg\",\"l.jpg\"), #get large picture\n",
    "                   \"semes\":old[\"semes\"],\n",
    "                   \"progr\":(\"00\"+old[\"progr\"][:2].replace(\"/\",\"\"))[-2:]+\"/\"+(\"00\"+str(maldata.episodes).replace(\"None\",\"??\"))[-2:],\n",
    "                   \"vdate\":old[\"vdate\"],\n",
    "                   \"statu\":old[\"statu\"]\n",
    "                   }\n",
    "            #leere Einträge verhindern\n",
    "            if tmp[\"titen\"] in [\"null\", None, False, \"\"]:\n",
    "                tmp[\"titen\"] = tmp[\"title\"]\n",
    "            if tmp[\"theme\"] in [\"null\", None, False, \"\"]:\n",
    "                tmp[\"theme\"] = \" \"\n",
    "        print(\"\")\n",
    "        print(f\"Eintrag {tmp['index']}:\")\n",
    "        print(tmp['title'])\n",
    "        print(tmp[\"titen\"])\n",
    "        print(tmp[\"titjp\"])\n",
    "        print(tmp[\"theme\"])\n",
    "        print(tmp[\"statu\"], tmp[\"progr\"])\n",
    "        print(\"\")\n",
    "        print(\"\")\n",
    "        if data[i][\"statu\"]!=\"W\": \n",
    "            clean.append(tmp)\n",
    "        else:\n",
    "            clean_w.append(tmp)\n",
    "    data =clean+clean_w\n",
    "    return data"
   ]
  },
  {
   "cell_type": "code",
   "execution_count": null,
   "id": "fc410580",
   "metadata": {},
   "outputs": [],
   "source": [
    "def list_statusupdate(data, flag_needsort=False):\n",
    "\n",
    "    print(\"Update-Datum eingeben mit Format: 31.01.2022 >> '3101[2022]' (Punkte und Jahr optional)\")\n",
    "    date = input()\n",
    "\n",
    "    if len(date)>=4 and len(date)<=6:\n",
    "        date += str(datetime.datetime.now().year)\n",
    "    if len(date)==8:\n",
    "        date = date[:2]+\".\"+date[2:4]+\".\"+date[4:]\n",
    "\n",
    "    print(\"Datum: \"+date)\n",
    "    print(\"\")\n",
    "    print(\"STATUS UPDATEN: (Eingabe optional)\")\n",
    "    print(\"\")\n",
    "\n",
    "    for i in range(len(data)):\n",
    "        if data[i][\"statu\"]==\"W\":\n",
    "            print(\"Titel:\", data[i][\"title\"])\n",
    "            print(\"Folge:\", data[i][\"progr\"])\n",
    "            inc = input(\"increment:  +\")\n",
    "            sta = input(\"status change (W/F/D):\")\n",
    "            print(\"\")\n",
    "            if inc!=\"\":\n",
    "                try:\n",
    "                    data[i][\"progr\"]=(\"00\"+str(int(data[i][\"progr\"][:2])+int(inc)))[-2:]+data[i][\"progr\"][2:]\n",
    "                except:\n",
    "                    print(f\"ERROR: '{data[i]['progr']}' + '{inc}' kein gültiges increment\")\n",
    "                    print(\"\")\n",
    "            if sta!=\"\":\n",
    "                if sta in [\"W\",\"F\",\"D\"]:\n",
    "                    data[i][\"statu\"] = sta\n",
    "                    flag_needsort = True\n",
    "                else:\n",
    "                    print(f\"ERROR: '{sta}' kein gültiger Status\")\n",
    "                    print(\"\")\n",
    "            print(\"\")\n",
    "\n",
    "    print(\"Programm:\") \n",
    "\n",
    "    ids = []\n",
    "    for i in range(len(data)):\n",
    "        if data[i][\"statu\"]==\"W\":\n",
    "            ids.append(i)\n",
    "\n",
    "    for i,j in zip(ids,range(len(ids))):\n",
    "         print(j, \"--\", data[i][\"title\"])\n",
    "    print(\"Neue Reihenfolge eingeben mit Format '0123': \")\n",
    "    rf = input()\n",
    "    if rf != \"\": #falls neue reihenfolge\n",
    "        tmp = []\n",
    "        if sorted(rf) == [str(k) for k in range(len(ids))]:\n",
    "            for i in rf:\n",
    "                tmp.append(data[ids[int(i)]])\n",
    "            for i in range(len(ids)):\n",
    "                data[sorted(ids)[i]] = tmp[i]\n",
    "        else:\n",
    "            print(\"\")\n",
    "            print(\"ERROR: Reihenfolge ist ungültig!\")\n",
    "\n",
    "    print(\"\")\n",
    "    print(\"FERTIG\")\n",
    "    if flag_needsort:\n",
    "        print(\"Sortieren notwendig...\")\n",
    "        time.sleep(3)\n",
    "        list_cleanup(mal = False)\n",
    "    return data"
   ]
  },
  {
   "cell_type": "code",
   "execution_count": null,
   "id": "e5842202",
   "metadata": {},
   "outputs": [],
   "source": [
    "def list_hinzufuegen(data):\n",
    "    print(\"NEUEN ANIME HINZUFÜGEN/ALTEN WIEDERBELEBEN:\")\n",
    "    malid = input(\"MAL-ID (oder Titel für Suche):\")\n",
    "    maldata = None\n",
    "    try:\n",
    "        maldata = Anime(malid)\n",
    "    except:\n",
    "        print(\"\")\n",
    "        print(\"ID ungültig. Suchergebnisse:\")\n",
    "        try:\n",
    "            search = AnimeSearch(malid)\n",
    "            for i in range(min(15,len(search.results))):\n",
    "                print(f'{(\" \"+str(i+1))[-2:]} -- {search.results[i].title} ({search.results[i].type})')\n",
    "            i = input(\"Position: \")\n",
    "            malid = search.results[int(i)-1].mal_id\n",
    "            maldata = Anime(malid, timeout=10)\n",
    "        except:\n",
    "            print(\"\")\n",
    "            print(\"Suche nicht erfolgreich.\")\n",
    "\n",
    "    if maldata != None:\n",
    "        print(\"\")\n",
    "        flag = False\n",
    "        for i in range(len(data)):\n",
    "            if data[i][\"malid\"] == malid:\n",
    "                flag = True\n",
    "                index = i\n",
    "        if flag:\n",
    "            print(f\"Anime schon vorhanden. '{maldata.title}' wird wieder aktiviert.\")\n",
    "            data[i][\"statu\"] = \"W\"\n",
    "        else:\n",
    "            print(f\"ID okay. '{maldata.title}' wird hinzugefügt\")\n",
    "            #semester\n",
    "            if datetime.datetime.now().month in [4,5,6,7,8,9]:\n",
    "                ts = str(datetime.datetime.now().year)[-2:]+\"S\"\n",
    "            else:\n",
    "                if datetime.datetime.now().month in [10,11,12]:\n",
    "                    ts = str(datetime.datetime.now().year)[-2:]+\"W\"\n",
    "                else:\n",
    "                    ts = str(datetime.datetime.now().year-1)[-2:]+\"W\"\n",
    "            #neuer eintrag\n",
    "            tmp = {\"index\":len(data)+1, \n",
    "                   \"malid\":malid,\n",
    "                   \"title\":maldata.title,\n",
    "                   \"titen\":maldata.title_english,\n",
    "                   \"titjp\":maldata.title_japanese,\n",
    "                   \"theme\":\", \".join(maldata.themes),\n",
    "                   \"imurl\":maldata.image_url,\n",
    "                   \"semes\":ts,\n",
    "                   \"progr\":\"00/\"+str(maldata.episodes).replace(\"None\",\"??\"),\n",
    "                   \"vdate\":\"01.01.1970\",\n",
    "                   \"statu\":\"W\"\n",
    "                   }            \n",
    "            data.append(tmp)\n",
    "        print(\"\")\n",
    "        print(\"Statusupdate notwendig...\")\n",
    "        time.sleep(3)\n",
    "        list_statusupdate(data, flag_needsort=True)\n",
    "    return data"
   ]
  },
  {
   "cell_type": "code",
   "execution_count": null,
   "id": "67096cbe",
   "metadata": {},
   "outputs": [],
   "source": [
    "def list_savejson(data):\n",
    "    #backup\n",
    "    shutil.copy('archive.json', 'backup/archive'+datetime.datetime.now().isoformat()[:19].replace(\":\",\"-\")+'.json')\n",
    "    #save\n",
    "    with open(\"archive.json\", \"w\", encoding=\"utf-8\") as outfile:\n",
    "        json.dump(data, outfile, indent = 4)"
   ]
  },
  {
   "cell_type": "markdown",
   "id": "1715af83",
   "metadata": {},
   "source": [
    "  "
   ]
  },
  {
   "cell_type": "markdown",
   "id": "f4264492",
   "metadata": {},
   "source": [
    "  "
   ]
  },
  {
   "cell_type": "markdown",
   "id": "2e7741d7",
   "metadata": {},
   "source": [
    "  "
   ]
  },
  {
   "cell_type": "markdown",
   "id": "a9a79494",
   "metadata": {},
   "source": [
    "  "
   ]
  },
  {
   "cell_type": "markdown",
   "id": "684a1c3e",
   "metadata": {},
   "source": [
    "  "
   ]
  },
  {
   "cell_type": "markdown",
   "id": "bebc4b10",
   "metadata": {},
   "source": [
    "  "
   ]
  },
  {
   "cell_type": "code",
   "execution_count": null,
   "id": "e4f1c5fe",
   "metadata": {
    "scrolled": true
   },
   "outputs": [],
   "source": [
    "data = list_load()"
   ]
  },
  {
   "cell_type": "code",
   "execution_count": null,
   "id": "48efc9fa",
   "metadata": {
    "scrolled": true
   },
   "outputs": [],
   "source": [
    "data = list_cleanup(data)"
   ]
  },
  {
   "cell_type": "code",
   "execution_count": null,
   "id": "079c60bf",
   "metadata": {},
   "outputs": [],
   "source": [
    "list_savejson(data)"
   ]
  },
  {
   "cell_type": "code",
   "execution_count": null,
   "id": "b5c602f9",
   "metadata": {},
   "outputs": [],
   "source": []
  },
  {
   "cell_type": "code",
   "execution_count": null,
   "id": "ec60288d",
   "metadata": {},
   "outputs": [],
   "source": []
  },
  {
   "cell_type": "code",
   "execution_count": null,
   "id": "80a65753",
   "metadata": {},
   "outputs": [],
   "source": []
  },
  {
   "cell_type": "code",
   "execution_count": null,
   "id": "5e95951f",
   "metadata": {},
   "outputs": [],
   "source": []
  }
 ],
 "metadata": {
  "kernelspec": {
   "display_name": "Python 3",
   "language": "python",
   "name": "python3"
  },
  "language_info": {
   "codemirror_mode": {
    "name": "ipython",
    "version": 3
   },
   "file_extension": ".py",
   "mimetype": "text/x-python",
   "name": "python",
   "nbconvert_exporter": "python",
   "pygments_lexer": "ipython3",
   "version": "3.8.8"
  }
 },
 "nbformat": 4,
 "nbformat_minor": 5
}
