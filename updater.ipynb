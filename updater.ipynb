{
 "cells": [
  {
   "cell_type": "code",
   "execution_count": null,
   "id": "dda00e65",
   "metadata": {},
   "outputs": [],
   "source": [
    "import json\n",
    "from time import sleep\n",
    "import datetime\n",
    "from datetime import *\n",
    "import shutil\n",
    "\n",
    "try:\n",
    "    from mal import *\n",
    "    config.TIMEOUT = 20  # Import level config\n",
    "except:\n",
    "    print(\"MAL-Api nicht gefunden. Installieren mit 'pip install -U mal-api'\")"
   ]
  },
  {
   "cell_type": "code",
   "execution_count": null,
   "id": "10fcf906",
   "metadata": {},
   "outputs": [],
   "source": [
    "def getAnime(malid):\n",
    "    maldata = None\n",
    "    timeout = 1\n",
    "    while maldata is None:\n",
    "        try:\n",
    "            maldata = Anime(malid, timeout=10)\n",
    "        except Exception as e:\n",
    "            print(f\"Fehler: {e}  Versuche nochmal in {int(timeout)} sec..\")\n",
    "            sleep(timeout)\n",
    "            timeout=timeout*1.5\n",
    "    return maldata"
   ]
  },
  {
   "cell_type": "code",
   "execution_count": null,
   "id": "bda40704",
   "metadata": {},
   "outputs": [],
   "source": [
    "def loadjson():\n",
    "    try:\n",
    "        with open('archive.json', encoding=\"utf-8\") as f:\n",
    "            data = json.loads(f.read())\n",
    "    except:\n",
    "        with open('archive.json', encoding=\"utf-8\") as f:\n",
    "            data = json.loads(f.read()[f.read().index(\"[\"):])\n",
    "    try:\n",
    "        with open('dates.json', encoding=\"utf-8\") as f:\n",
    "            dates = json.loads(f.read())\n",
    "    except:\n",
    "        with open('dates.json', encoding=\"utf-8\") as f:\n",
    "            dates = json.loads(f.read()[f.read().index(\"[\"):])\n",
    "    if len(data)*len(dates) != 0:\n",
    "        print(\"okay. Daten geladen\")\n",
    "        return data, dates"
   ]
  },
  {
   "cell_type": "code",
   "execution_count": null,
   "id": "8b08a3a1",
   "metadata": {},
   "outputs": [],
   "source": [
    "def list_cleanup(data, mal=False):\n",
    "    clean = []\n",
    "    clean_w = [] #watchlist at the end or beginning\n",
    "    for i in range(len(data)):\n",
    "        old = data[i]\n",
    "        try:\n",
    "            if mal: \n",
    "                a=1/0 #go to except\n",
    "            if min([len(str(s)) for s in list(old.values())])==0:\n",
    "                a=1/0\n",
    "            tmp = {\"index\":old[\"index\"], \n",
    "                   \"malid\":old[\"malid\"],\n",
    "                   \"title\":old[\"title\"],\n",
    "                   \"titen\":old[\"titen\"],\n",
    "                   \"titjp\":old[\"titjp\"],\n",
    "                   \"theme\":old[\"theme\"],\n",
    "                   \"imurl\":old[\"imurl\"],\n",
    "                   \"semes\":old[\"semes\"],\n",
    "                   \"progr\":old[\"progr\"],\n",
    "                   \"vdate\":old[\"vdate\"],\n",
    "                   \"statu\":old[\"statu\"]\n",
    "                   }\n",
    "        except Exception as es:\n",
    "            if not mal: \n",
    "                print(f\"Ungültiger Eintrag (id:{old['malid']}) entdeckt, lade neu von MAL.. ({es})\")\n",
    "            else:\n",
    "                print(\"Lade von MAL..\")\n",
    "            \n",
    "            maldata = getAnime(old[\"malid\"])\n",
    "                    \n",
    "            tmp = {\"index\":old[\"index\"], \n",
    "                   \"malid\":old[\"malid\"],\n",
    "                   \"title\":maldata.title,\n",
    "                   \"titen\":maldata.title_english,\n",
    "                   \"titjp\":maldata.title_japanese,\n",
    "                   \"theme\":\", \".join(maldata.themes),\n",
    "                   \"imurl\":maldata.image_url.replace(\".jpg\",\"l.jpg\").replace(\"ll.jpg\",\"l.jpg\"), #get large picture\n",
    "                   \"semes\":old[\"semes\"],\n",
    "                   \"progr\":(\"00\"+old[\"progr\"][:2].replace(\"/\",\"\"))[-2:]+\"/\"+(\"00\"+str(maldata.episodes).replace(\"None\",\"??\"))[-2:],\n",
    "                   \"vdate\":old[\"vdate\"],\n",
    "                   \"statu\":old[\"statu\"]\n",
    "                   }\n",
    "            #leere Einträge verhindern\n",
    "            if tmp[\"titen\"] in [\"null\", None, False, \"\"]:\n",
    "                tmp[\"titen\"] = tmp[\"title\"]\n",
    "            if tmp[\"theme\"] in [\"null\", None, False, \"\"]:\n",
    "                tmp[\"theme\"] = \" \"\n",
    "        print(\"\")\n",
    "        print(f\"Eintrag {tmp['index']}:\")\n",
    "        print(tmp['title'])\n",
    "        print(tmp[\"titen\"])\n",
    "        print(tmp[\"titjp\"])\n",
    "        print(tmp[\"theme\"])\n",
    "        print(tmp[\"statu\"], tmp[\"progr\"])\n",
    "        print(\"\")\n",
    "        print(\"\")\n",
    "        if data[i][\"statu\"]!=\"W\": \n",
    "            clean.append(tmp)\n",
    "        else:\n",
    "            clean_w.append(tmp)\n",
    "    return clean+clean_w"
   ]
  },
  {
   "cell_type": "code",
   "execution_count": null,
   "id": "fc410580",
   "metadata": {},
   "outputs": [],
   "source": [
    "def list_statusupdate(data, flag_needsort=False):\n",
    "\n",
    "    print(\"Update-Datum eingeben mit Format: 31.01.2022 >> '3101[2022]' (Punkte und Jahr optional)\")\n",
    "    date = input()\n",
    "\n",
    "    if len(date)>=4 and len(date)<=6:\n",
    "        date += str(datetime.now().year)\n",
    "    if len(date)==8:\n",
    "        date = date[:2]+\".\"+date[2:4]+\".\"+date[4:]\n",
    "\n",
    "    print(\"Datum: \"+date)\n",
    "    print(\"\")\n",
    "    print(\"STATUS UPDATEN: (Eingabe optional)\")\n",
    "    print(\"\")\n",
    "\n",
    "    for i in range(len(data)):\n",
    "        if data[i][\"statu\"]==\"W\":\n",
    "            print(\"Titel:\", data[i][\"title\"])\n",
    "            print(\"Folge:\", data[i][\"progr\"])\n",
    "            inc = input(\"increment:  +\")\n",
    "            sta = input(\"status change (W/F/D):\")\n",
    "            print(\"\")\n",
    "            if not inc in [None,\"null\",\"\",\"0\",0,\"-0\"]:\n",
    "                try:\n",
    "                    data[i][\"progr\"]=(\"00\"+str(int(data[i][\"progr\"][:2])+int(inc)))[-2:]+data[i][\"progr\"][2:]\n",
    "                    data[i][\"vdate\"]=date\n",
    "                except:\n",
    "                    print(f\"ERROR: '{data[i]['progr']}' + '{inc}' kein gültiges increment\")\n",
    "                    print(\"\")\n",
    "            if sta!=\"\":\n",
    "                if sta in [\"W\",\"F\",\"D\"]:\n",
    "                    data[i][\"statu\"] = sta\n",
    "                    data[i][\"vdate\"]=date\n",
    "                    flag_needsort = True\n",
    "                else:\n",
    "                    print(f\"ERROR: '{sta}' kein gültiger Status\")\n",
    "                    print(\"\")\n",
    "            print(\"\")\n",
    "\n",
    "    print(\"Programm:\") \n",
    "\n",
    "    ids = []\n",
    "    for i in range(len(data)):\n",
    "        if data[i][\"statu\"]==\"W\":\n",
    "            ids.append(i)\n",
    "\n",
    "    for i,j in zip(ids,range(len(ids))):\n",
    "         print(j, \"--\", data[i][\"title\"])\n",
    "    print(\"Neue Reihenfolge eingeben mit Format '0123': \")\n",
    "    rf = input()\n",
    "    if rf != \"\": #falls neue reihenfolge\n",
    "        tmp = []\n",
    "        if sorted(rf) == [str(k) for k in range(len(ids))]:\n",
    "            for i in rf:\n",
    "                tmp.append(data[ids[int(i)]])\n",
    "            for i in range(len(ids)):\n",
    "                data[sorted(ids)[i]] = tmp[i]\n",
    "        else:\n",
    "            print(\"\")\n",
    "            print(\"ERROR: Reihenfolge ist ungültig!\")\n",
    "\n",
    "    print(\"\")\n",
    "    print(\"FERTIG\")\n",
    "    if flag_needsort:\n",
    "        print(\"Sortieren notwendig...\")\n",
    "        sleep(3)\n",
    "        data = list_cleanup(data, mal = False)\n",
    "    return data"
   ]
  },
  {
   "cell_type": "code",
   "execution_count": null,
   "id": "e5842202",
   "metadata": {},
   "outputs": [],
   "source": [
    "def list_hinzufuegen(data):\n",
    "    print(\"NEUEN ANIME HINZUFÜGEN/ALTEN WIEDERBELEBEN:\")\n",
    "    malid = input(\"MAL-ID (oder Titel für Suche):\")\n",
    "    maldata = None\n",
    "    try:\n",
    "        maldata = Anime(malid)\n",
    "    except:\n",
    "        print(\"\")\n",
    "        print(\"ID ungültig. Suchergebnisse:\")\n",
    "        try:\n",
    "            search = AnimeSearch(malid)\n",
    "            for i in range(min(30,len(search.results))):\n",
    "                print(f'{(\" \"+str(i+1))[-2:]} -- {search.results[i].title} ({search.results[i].type})')\n",
    "            i = input(\"Position: \")\n",
    "            malid = search.results[int(i)-1].mal_id\n",
    "            maldata = Anime(malid, timeout=10)\n",
    "        except:\n",
    "            print(\"\")\n",
    "            print(\"Suche nicht erfolgreich.\")\n",
    "\n",
    "    if maldata != None:\n",
    "        print(\"\")\n",
    "        flag = False\n",
    "        for i in range(len(data)):\n",
    "            if data[i][\"malid\"] == malid:\n",
    "                flag = True\n",
    "                index = i\n",
    "        if flag:\n",
    "            print(f\"Anime schon vorhanden. '{maldata.title}' wird wieder aktiviert.\")\n",
    "            data[i][\"statu\"] = \"W\"\n",
    "        else:\n",
    "            print(f\"ID okay. '{maldata.title}' wird hinzugefügt\")\n",
    "            #semester\n",
    "            if datetime.now().month in [4,5,6,7,8,9]:\n",
    "                ts = str(datetime.now().year)[-2:]+\"S\"\n",
    "            else:\n",
    "                if datetime.now().month in [10,11,12]:\n",
    "                    ts = str(datetime.now().year)[-2:]+\"W\"\n",
    "                else:\n",
    "                    ts = str(datetime.now().year-1)[-2:]+\"W\"\n",
    "            #neuer eintrag\n",
    "            tmp = {\"index\":str(len(data)+1), \n",
    "                   \"malid\":str(malid),\n",
    "                   \"semes\":ts,\n",
    "                   \"vdate\":\"null\",\n",
    "                   \"statu\":\"W\",\n",
    "                   \"progr\":\"00/??\"\n",
    "                   }            \n",
    "            data.append(tmp)\n",
    "        print(\"\")\n",
    "        print(\"Bereinigung notwendig...\")\n",
    "        sleep(5)\n",
    "        data = list_cleanup(data, mal=False)\n",
    "        print(\"\")\n",
    "        print(\"Statusupdate notwendig...\")\n",
    "        sleep(5)\n",
    "        data = list_statusupdate(data, flag_needsort=True)\n",
    "    return data"
   ]
  },
  {
   "cell_type": "code",
   "execution_count": null,
   "id": "fc65317a",
   "metadata": {},
   "outputs": [],
   "source": [
    "def dates_sort(dates):\n",
    "    for i in range(len(dates)):\n",
    "        for j in range(i+1,len(dates)):\n",
    "            if((datetime.fromisoformat(dates[i][\"date\"]).timestamp()-datetime.fromisoformat(dates[j][\"date\"]).timestamp())/(60*60*24) > 0):\n",
    "                tmp = dates[i].copy()\n",
    "                dates[i] = dates[j].copy()\n",
    "                dates[j] = tmp\n",
    "    return dates"
   ]
  },
  {
   "cell_type": "code",
   "execution_count": null,
   "id": "80a65753",
   "metadata": {},
   "outputs": [],
   "source": [
    "def dates_next(dates):\n",
    "    dates = dates_sort(dates)\n",
    "    i = len(dates)\n",
    "    while True:\n",
    "        i+=-1\n",
    "        if dates[i][\"type\"]!=\"S\":\n",
    "            break\n",
    "\n",
    "    d = datetime.fromisoformat(dates[i][\"date\"])\n",
    "\n",
    "    for j in range(1,5):\n",
    "        tmp_d = d + timedelta(days=7*j)\n",
    "        print(\"Datum für Sitzung:\", str(tmp_d)[:16])\n",
    "        ny = input(\"bestätigen? y/n? \")\n",
    "        if ny in [\"y\",\"Y\",\"j\",\"J\",\"1\"]:\n",
    "            tmp =  dates[i].copy()\n",
    "            tmp[\"date\"] = tmp_d.isoformat().replace(\":00+\",\"+\")\n",
    "            print(\"okay. Hinzugefügt:\", tmp[\"title\"], f\"({tmp['type']}) @\", str(tmp_d)[:16])\n",
    "            dates.append(tmp)\n",
    "        print(\"\")  \n",
    "    print(\"\") \n",
    "    return dates"
   ]
  },
  {
   "cell_type": "code",
   "execution_count": null,
   "id": "5e95951f",
   "metadata": {},
   "outputs": [],
   "source": [
    "def dates_new(dates):\n",
    "    print(\"(Zeitformat:\", dates[-1][\"date\"].replace(\"+01:00\",\")\"))\n",
    "    d = input(\"Termin eingeben: \")\n",
    "    d = d + \"+01:00\"\n",
    "    try:\n",
    "        datetime.fromisoformat(d)\n",
    "\n",
    "        tmp = dates[-1].copy()\n",
    "        tmp[\"date\"] = d\n",
    "\n",
    "        tmp[\"title\"] = input(\"Titel: \")\n",
    "        tmp[\"type\"] = input(\"Typ Normal (A/B) oder Event (S): \")\n",
    "        if not tmp[\"type\"] in [\"A\",\"B\",\"S\"]:\n",
    "            a=1/0\n",
    "        dates.append(tmp)\n",
    "        print(\"okay. Hinzugefügt:\", tmp[\"title\"], f\"({tmp['type']}) @\", str(datetime.fromisoformat(tmp[\"date\"]))[:16])\n",
    "    except:\n",
    "        print(\"ERROR: Zeit/Termintyp ungültig\")\n",
    "    print(\"\")\n",
    "    return dates_sort(dates)"
   ]
  },
  {
   "cell_type": "code",
   "execution_count": null,
   "id": "145dc35a",
   "metadata": {},
   "outputs": [],
   "source": [
    "def savejson(data, dates):\n",
    "    try: #backup\n",
    "        shutil.copy('archive.json', 'backup/archive'+datetime.now().isoformat()[:19].replace(\":\",\"-\")+'.json')\n",
    "    except:\n",
    "        pass\n",
    "    #save\n",
    "    try:\n",
    "        with open(\"archive.json\", \"w\", encoding=\"utf-8\") as outfile:\n",
    "            json.dump(data, outfile, indent = 4)\n",
    "        with open(\"dates.json\", \"w\", encoding=\"utf-8\") as outfile:\n",
    "            json.dump(dates, outfile, indent = 4)\n",
    "        print(\"okay. gespeichert\")\n",
    "    except Exception as e:\n",
    "        print(\"ERROR beim speichern:\", e)"
   ]
  },
  {
   "cell_type": "markdown",
   "id": "fbf2129d",
   "metadata": {},
   "source": [
    "# INTERAKTION HIER\n",
    "## LADEN"
   ]
  },
  {
   "cell_type": "code",
   "execution_count": null,
   "id": "500aad82",
   "metadata": {},
   "outputs": [],
   "source": [
    "data,dates = loadjson()"
   ]
  },
  {
   "cell_type": "markdown",
   "id": "57b1e8cb",
   "metadata": {},
   "source": [
    "## LISTE BEREINIGEN"
   ]
  },
  {
   "cell_type": "code",
   "execution_count": null,
   "id": "16e010b0",
   "metadata": {},
   "outputs": [],
   "source": [
    "data = list_cleanup(data, mal=False)"
   ]
  },
  {
   "cell_type": "markdown",
   "id": "02cdcffd",
   "metadata": {},
   "source": [
    "## STATUSUPDATE"
   ]
  },
  {
   "cell_type": "code",
   "execution_count": null,
   "id": "fe13426f",
   "metadata": {},
   "outputs": [],
   "source": [
    "data = list_statusupdate(data, flag_needsort=False)"
   ]
  },
  {
   "cell_type": "markdown",
   "id": "b0ec1214",
   "metadata": {},
   "source": [
    "## NEUE SERIE/ALTE REAKTIVIEREN"
   ]
  },
  {
   "cell_type": "code",
   "execution_count": null,
   "id": "b19ab205",
   "metadata": {},
   "outputs": [],
   "source": [
    "data = list_hinzufuegen(data)"
   ]
  },
  {
   "cell_type": "markdown",
   "id": "11992f3a",
   "metadata": {},
   "source": [
    "## NEUE SITZUNGSTERMINE"
   ]
  },
  {
   "cell_type": "code",
   "execution_count": null,
   "id": "7ddde006",
   "metadata": {},
   "outputs": [],
   "source": [
    "dates = dates_next(dates)"
   ]
  },
  {
   "cell_type": "markdown",
   "id": "7c4328ce",
   "metadata": {},
   "source": [
    "## NEUER EINZELTERMIN"
   ]
  },
  {
   "cell_type": "code",
   "execution_count": null,
   "id": "9df79a9c",
   "metadata": {},
   "outputs": [],
   "source": [
    "dates = dates_new(dates)"
   ]
  },
  {
   "cell_type": "markdown",
   "id": "e446c356",
   "metadata": {},
   "source": [
    "## SPEICHERN"
   ]
  },
  {
   "cell_type": "code",
   "execution_count": null,
   "id": "5ef5d123",
   "metadata": {},
   "outputs": [],
   "source": [
    "savejson(data, dates)"
   ]
  },
  {
   "cell_type": "code",
   "execution_count": null,
   "id": "ea3f1c24",
   "metadata": {},
   "outputs": [],
   "source": []
  }
 ],
 "metadata": {
  "kernelspec": {
   "display_name": "Python 3",
   "language": "python",
   "name": "python3"
  },
  "language_info": {
   "codemirror_mode": {
    "name": "ipython",
    "version": 3
   },
   "file_extension": ".py",
   "mimetype": "text/x-python",
   "name": "python",
   "nbconvert_exporter": "python",
   "pygments_lexer": "ipython3",
   "version": "3.8.8"
  }
 },
 "nbformat": 4,
 "nbformat_minor": 5
}
